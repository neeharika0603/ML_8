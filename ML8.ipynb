{
 "cells": [
  {
   "cell_type": "code",
   "execution_count": 2,
   "id": "cb4a7723",
   "metadata": {},
   "outputs": [
    {
     "name": "stdout",
     "output_type": "stream",
     "text": [
      "{'Buys computer': 0.5833333333333334, 'Does not buy computer': 0.4166666666666667}\n"
     ]
    }
   ],
   "source": [
    "\n",
    "\n",
    "class_counts = {'Buys computer': 7, 'Does not buy computer': 5}\n",
    "total_instances = sum(class_counts.values())\n",
    "\n",
    "prior_probabilities = {}\n",
    "for class_label, count in class_counts.items():\n",
    "    prior_probabilities[class_label] = count / total_instances\n",
    "\n",
    "print(prior_probabilities)"
   ]
  },
  {
   "cell_type": "code",
   "execution_count": null,
   "id": "dff2bef3",
   "metadata": {},
   "outputs": [],
   "source": []
  }
 ],
 "metadata": {
  "kernelspec": {
   "display_name": "Python 3 (ipykernel)",
   "language": "python",
   "name": "python3"
  },
  "language_info": {
   "codemirror_mode": {
    "name": "ipython",
    "version": 3
   },
   "file_extension": ".py",
   "mimetype": "text/x-python",
   "name": "python",
   "nbconvert_exporter": "python",
   "pygments_lexer": "ipython3",
   "version": "3.11.4"
  }
 },
 "nbformat": 4,
 "nbformat_minor": 5
}
